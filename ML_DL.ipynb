{
  "nbformat": 4,
  "nbformat_minor": 0,
  "metadata": {
    "colab": {
      "provenance": [],
      "machine_shape": "hm",
      "gpuType": "V28"
    },
    "kernelspec": {
      "name": "python3",
      "display_name": "Python 3"
    },
    "language_info": {
      "name": "python"
    },
    "accelerator": "TPU"
  },
  "cells": [
    {
      "cell_type": "code",
      "source": [
        "!pip install imbalanced-learn\n",
        "\n",
        "import pandas as pd\n",
        "import numpy as np\n",
        "from sklearn.model_selection import train_test_split, StratifiedKFold\n",
        "from sklearn.preprocessing import StandardScaler, LabelEncoder\n",
        "from sklearn.ensemble import RandomForestClassifier\n",
        "from sklearn.metrics import accuracy_score, confusion_matrix, classification_report, roc_auc_score, roc_curve\n",
        "from imblearn.over_sampling import SMOTE\n",
        "import matplotlib.pyplot as plt\n",
        "import seaborn as sns\n",
        "import glob\n",
        "import joblib\n",
        "import tensorflow as tf\n",
        "from tensorflow.keras import Sequential\n",
        "from tensorflow.keras.layers import Dense, Dropout\n",
        "from tqdm import tqdm\n",
        "import time\n"
      ],
      "metadata": {
        "id": "EvhIFmgBPMq4"
      },
      "execution_count": null,
      "outputs": []
    },
    {
      "cell_type": "code",
      "source": [
        "# Load all CSV files and combine into a single DataFrame\n",
        "files = glob.glob('/content/drive/MyDrive/actual-project/data/*.csv')\n",
        "list_dfs = [pd.read_csv(file) for file in files]\n",
        "df = pd.concat(list_dfs, axis=0)"
      ],
      "metadata": {
        "id": "KekMjUwf-XF6"
      },
      "execution_count": null,
      "outputs": []
    },
    {
      "cell_type": "code",
      "source": [
        "# Handling missing values\n",
        "numeric_columns = df.select_dtypes(include=['number']).columns\n",
        "df[numeric_columns] = df[numeric_columns].replace([np.inf, -np.inf], np.nan)\n",
        "df[numeric_columns] = df[numeric_columns].fillna(df[numeric_columns].median())"
      ],
      "metadata": {
        "id": "iYHYH-QP-XL3"
      },
      "execution_count": null,
      "outputs": []
    },
    {
      "cell_type": "code",
      "source": [
        "# Data Cleaning\n",
        "# Remove whitespace from column names\n",
        "df.columns = df.columns.str.strip()"
      ],
      "metadata": {
        "id": "MZeH6saf-XPz"
      },
      "execution_count": null,
      "outputs": []
    },
    {
      "cell_type": "code",
      "source": [
        "# Label Encoding: Assign a unique integer for each attack type and BENIGN\n",
        "label_column = [col for col in df.columns if col.strip().lower() == 'label'][0]\n",
        "df[label_column] = df[label_column].str.strip()\n",
        "label_encoder = LabelEncoder()\n",
        "df[label_column] = label_encoder.fit_transform(df[label_column])"
      ],
      "metadata": {
        "id": "hSKhAkI6-XSe"
      },
      "execution_count": null,
      "outputs": []
    },
    {
      "cell_type": "code",
      "source": [
        "# Display label mapping\n",
        "label_mapping = dict(zip(label_encoder.classes_, range(len(label_encoder.classes_))))\n",
        "print(\"Label Mapping (Attack Types):\", label_mapping)"
      ],
      "metadata": {
        "id": "ACWANvpL-XVG"
      },
      "execution_count": null,
      "outputs": []
    },
    {
      "cell_type": "code",
      "source": [
        "# Separate features and target\n",
        "X = df.drop(columns=[label_column])\n",
        "y = df[label_column]"
      ],
      "metadata": {
        "id": "Kiwck6BH-XXP"
      },
      "execution_count": null,
      "outputs": []
    },
    {
      "cell_type": "code",
      "source": [
        "# Encode categorical features if any\n",
        "categorical_columns = X.select_dtypes(include=['object']).columns\n",
        "if len(categorical_columns) > 0:\n",
        "    X = pd.get_dummies(X, columns=categorical_columns)"
      ],
      "metadata": {
        "id": "Bt3tsoH1-XaS"
      },
      "execution_count": null,
      "outputs": []
    },
    {
      "cell_type": "code",
      "source": [
        "# Feature scaling\n",
        "scaler = StandardScaler()\n",
        "X_scaled = scaler.fit_transform(X)"
      ],
      "metadata": {
        "id": "DN_Mq45R-Xgp"
      },
      "execution_count": null,
      "outputs": []
    },
    {
      "cell_type": "code",
      "source": [
        "# Save the scaler for future use\n",
        "joblib.dump(scaler, 'scaler.pkl')"
      ],
      "metadata": {
        "id": "4ayVoTxK-X0D"
      },
      "execution_count": null,
      "outputs": []
    },
    {
      "cell_type": "code",
      "source": [
        "# Split data into training, validation, and testing sets\n",
        "X_train, X_test, y_train, y_test = train_test_split(X_scaled, y, test_size=0.3, random_state=42, stratify=y)"
      ],
      "metadata": {
        "id": "y4YMI0c4-X2i"
      },
      "execution_count": null,
      "outputs": []
    },
    {
      "cell_type": "code",
      "source": [
        "# Handle class imbalance using SMOTE\n",
        "smote = SMOTE(random_state=42)\n",
        "X_train_res, y_train_res = smote.fit_resample(X_train, y_train)"
      ],
      "metadata": {
        "id": "FSJ_H_8J-X4z"
      },
      "execution_count": null,
      "outputs": []
    },
    {
      "cell_type": "code",
      "source": [
        "# Cross-validation setup with progress tracking\n",
        "cv = StratifiedKFold(n_splits=5, shuffle=True, random_state=42)\n",
        "cross_val_scores = []\n",
        "for train_idx, val_idx in tqdm(cv.split(X_train_res, y_train_res), total=cv.get_n_splits(), desc=\"Cross-Validation Progress\"):\n",
        "    X_train_fold, X_val_fold = X_train_res[train_idx], X_train_res[val_idx]\n",
        "    y_train_fold, y_val_fold = y_train_res[train_idx], y_train_res[val_idx]\n",
        "\n",
        "    # Train the model on the fold\n",
        "    rf_model = RandomForestClassifier(n_estimators=100, random_state=42)\n",
        "    rf_model.fit(X_train_fold, y_train_fold)\n",
        "\n",
        "    # Evaluate the model on the validation fold\n",
        "    score = rf_model.score(X_val_fold, y_val_fold)\n",
        "    cross_val_scores.append(score)\n",
        "\n",
        "print(f\"RandomForest Cross-Validation Accuracy Scores: {cross_val_scores}\")\n",
        "print(f\"Mean Cross-Validation Accuracy: {np.mean(cross_val_scores):.2f}\")"
      ],
      "metadata": {
        "id": "zf4Af7e8-X7I"
      },
      "execution_count": null,
      "outputs": []
    },
    {
      "cell_type": "code",
      "source": [
        "# Train RandomForestClassifier on the entire training set\n",
        "rf_model.fit(X_train_res, y_train_res)"
      ],
      "metadata": {
        "id": "x3i4CoNg-X9f"
      },
      "execution_count": null,
      "outputs": []
    },
    {
      "cell_type": "code",
      "source": [
        "# Save the trained RandomForest model\n",
        "joblib.dump(rf_model, 'random_forest_model.pkl')"
      ],
      "metadata": {
        "id": "KqulbpRG-YAE"
      },
      "execution_count": null,
      "outputs": []
    },
    {
      "cell_type": "code",
      "source": [
        "# Make predictions and evaluate RandomForest model\n",
        "y_pred_rf = rf_model.predict(X_test)\n",
        "accuracy_rf = accuracy_score(y_test, y_pred_rf)\n",
        "print(f\"RandomForest Model Accuracy: {accuracy_rf:.2f}\")\n",
        "conf_matrix_rf = confusion_matrix(y_test, y_pred_rf)\n",
        "print(\"Confusion Matrix:\")\n",
        "print(conf_matrix_rf)"
      ],
      "metadata": {
        "id": "oWWeU9je-TBD"
      },
      "execution_count": null,
      "outputs": []
    },
    {
      "cell_type": "code",
      "source": [
        "# Plot Confusion Matrix\n",
        "plt.figure(figsize=(12, 8))\n",
        "sns.heatmap(conf_matrix_rf, annot=True, cmap='Blues', fmt='g', xticklabels=label_encoder.classes_, yticklabels=label_encoder.classes_)\n",
        "plt.title('Confusion Matrix - RandomForest')\n",
        "plt.xlabel('Predicted')\n",
        "plt.ylabel('Actual')\n",
        "plt.show()"
      ],
      "metadata": {
        "id": "rNKEJmfP-TG9"
      },
      "execution_count": null,
      "outputs": []
    },
    {
      "cell_type": "code",
      "source": [
        "# Classification Report\n",
        "class_report_rf = classification_report(y_test, y_pred_rf, target_names=label_encoder.classes_)\n",
        "print(\"Classification Report:\")\n",
        "print(class_report_rf)"
      ],
      "metadata": {
        "id": "byn-5brQ-TOM"
      },
      "execution_count": null,
      "outputs": []
    },
    {
      "cell_type": "code",
      "source": [
        "# Get predicted probabilities for each class\n",
        "y_proba_rf = rf_model.predict_proba(X_test)"
      ],
      "metadata": {
        "id": "hqow8c-T-TbN"
      },
      "execution_count": null,
      "outputs": []
    },
    {
      "cell_type": "code",
      "source": [
        "# Find the class with the highest probability for each prediction\n",
        "y_pred_labels = [label_encoder.inverse_transform([np.argmax(prob)])[0] for prob in y_proba_rf]"
      ],
      "metadata": {
        "id": "OqQs06Gs-TeJ"
      },
      "execution_count": null,
      "outputs": []
    },
    {
      "cell_type": "code",
      "source": [
        "# Print out a few sample predictions with probabilities for each attack type\n",
        "for i in range(5):\n",
        "    print(f\"Sample {i+1}:\")\n",
        "    print(f\"  Predicted Label: {y_pred_labels[i]}\")\n",
        "    print(f\"  Probabilities for each class: {dict(zip(label_encoder.classes_, y_proba_rf[i]))}\")\n",
        "    print()"
      ],
      "metadata": {
        "id": "Ni4djgJe-Tg-"
      },
      "execution_count": null,
      "outputs": []
    },
    {
      "cell_type": "code",
      "source": [
        "# Plot ROC Curve for each class\n",
        "for i in range(len(label_encoder.classes_)):\n",
        "    fpr, tpr, _ = roc_curve(y_test == i, y_proba_rf[:, i])\n",
        "    plt.plot(fpr, tpr, label=f'{label_encoder.inverse_transform([i])[0]} (AUC = {roc_auc_score(y_test == i, y_proba_rf[:, i]):.2f})')\n",
        "\n",
        "plt.plot([0, 1], [0, 1], color='gray', linestyle='--')\n",
        "plt.xlabel('False Positive Rate')\n",
        "plt.ylabel('True Positive Rate')\n",
        "plt.title('ROC Curve for Each Class')\n",
        "plt.legend()\n",
        "plt.show()"
      ],
      "metadata": {
        "id": "j7wPiSEF-Tj4"
      },
      "execution_count": null,
      "outputs": []
    },
    {
      "cell_type": "code",
      "source": [
        "# Deep Learning Model (Multi-class Classification)\n",
        "model = Sequential()\n",
        "model.add(Dense(128, input_dim=X_train_res.shape[1], activation='relu'))\n",
        "model.add(Dropout(0.3))\n",
        "model.add(Dense(64, activation='relu'))\n",
        "model.add(Dropout(0.3))\n",
        "model.add(Dense(len(label_encoder.classes_), activation='softmax'))  # Use softmax for multi-class classification\n",
        "\n",
        "model.compile(optimizer='adam', loss='sparse_categorical_crossentropy', metrics=['accuracy'])"
      ],
      "metadata": {
        "id": "tX9gcwzz-Tm1"
      },
      "execution_count": null,
      "outputs": []
    },
    {
      "cell_type": "code",
      "source": [
        "# Train the Deep Learning model\n",
        "history = model.fit(X_train_res, y_train_res, validation_data=(X_test, y_test), epochs=10, batch_size=64)\n",
        "\n",
        "# Evaluate Deep Learning model\n",
        "eval_results = model.evaluate(X_test, y_test)\n",
        "print(f\"Deep Learning Model Test Loss: {eval_results[0]:.2f}\")\n",
        "print(f\"Deep Learning Model Test Accuracy: {eval_results[1]:.2f}\")"
      ],
      "metadata": {
        "id": "OdLct7OI-Tp2"
      },
      "execution_count": null,
      "outputs": []
    },
    {
      "cell_type": "code",
      "source": [
        "# Plot training & validation accuracy values\n",
        "plt.plot(history.history['accuracy'])\n",
        "plt.plot(history.history['val_accuracy'])\n",
        "plt.title('Model Accuracy')\n",
        "plt.xlabel('Epoch')\n",
        "plt.ylabel('Accuracy')\n",
        "plt.legend(['Train', 'Validation'], loc='upper left')\n",
        "plt.show()"
      ],
      "metadata": {
        "id": "8A3AaV-6-Tsw"
      },
      "execution_count": null,
      "outputs": []
    },
    {
      "cell_type": "code",
      "source": [
        "# Plot training & validation loss values\n",
        "plt.plot(history.history['loss'])\n",
        "plt.plot(history.history['val_loss'])\n",
        "plt.title('Model Loss')\n",
        "plt.xlabel('Epoch')\n",
        "plt.ylabel('Loss')\n",
        "plt.legend(['Train', 'Validation'], loc='upper left')\n",
        "plt.show()\n",
        "\n"
      ],
      "metadata": {
        "id": "rGZqVcdx-Tvs"
      },
      "execution_count": null,
      "outputs": []
    },
    {
      "cell_type": "code",
      "source": [
        "# Summary of Findings\n",
        "print(\"The updated RandomForestClassifier and Deep Learning models have been trained and evaluated.\")\n",
        "print(\"The models now predict specific attack types rather than just a binary classification.\")"
      ],
      "metadata": {
        "id": "0l5ufuw6-TyZ"
      },
      "execution_count": null,
      "outputs": []
    },
    {
      "cell_type": "code",
      "source": [
        "from google.colab import files\n",
        "import joblib\n",
        "\n",
        "# Save and download the scaler\n",
        "joblib.dump(scaler, 'scaler.pkl')\n",
        "files.download('scaler.pkl')\n",
        "\n",
        "# Save Deep Learning model to HDF5 format\n",
        "model.save('deep_learning_model.keras')\n",
        "# Download Deep Learning model to your laptop\n",
        "files.download('deep_learning_model.keras')\n"
      ],
      "metadata": {
        "colab": {
          "base_uri": "https://localhost:8080/",
          "height": 17
        },
        "id": "7Bpfctcs5MAl",
        "outputId": "bf8e5abf-4118-4d2f-9599-191f0d5b78c1"
      },
      "execution_count": null,
      "outputs": [
        {
          "output_type": "display_data",
          "data": {
            "text/plain": [
              "<IPython.core.display.Javascript object>"
            ],
            "application/javascript": [
              "\n",
              "    async function download(id, filename, size) {\n",
              "      if (!google.colab.kernel.accessAllowed) {\n",
              "        return;\n",
              "      }\n",
              "      const div = document.createElement('div');\n",
              "      const label = document.createElement('label');\n",
              "      label.textContent = `Downloading \"${filename}\": `;\n",
              "      div.appendChild(label);\n",
              "      const progress = document.createElement('progress');\n",
              "      progress.max = size;\n",
              "      div.appendChild(progress);\n",
              "      document.body.appendChild(div);\n",
              "\n",
              "      const buffers = [];\n",
              "      let downloaded = 0;\n",
              "\n",
              "      const channel = await google.colab.kernel.comms.open(id);\n",
              "      // Send a message to notify the kernel that we're ready.\n",
              "      channel.send({})\n",
              "\n",
              "      for await (const message of channel.messages) {\n",
              "        // Send a message to notify the kernel that we're ready.\n",
              "        channel.send({})\n",
              "        if (message.buffers) {\n",
              "          for (const buffer of message.buffers) {\n",
              "            buffers.push(buffer);\n",
              "            downloaded += buffer.byteLength;\n",
              "            progress.value = downloaded;\n",
              "          }\n",
              "        }\n",
              "      }\n",
              "      const blob = new Blob(buffers, {type: 'application/binary'});\n",
              "      const a = document.createElement('a');\n",
              "      a.href = window.URL.createObjectURL(blob);\n",
              "      a.download = filename;\n",
              "      div.appendChild(a);\n",
              "      a.click();\n",
              "      div.remove();\n",
              "    }\n",
              "  "
            ]
          },
          "metadata": {}
        },
        {
          "output_type": "display_data",
          "data": {
            "text/plain": [
              "<IPython.core.display.Javascript object>"
            ],
            "application/javascript": [
              "download(\"download_579aeb7b-1f1b-4feb-9eac-081d61ed5b47\", \"scaler.pkl\", 4551)"
            ]
          },
          "metadata": {}
        },
        {
          "output_type": "display_data",
          "data": {
            "text/plain": [
              "<IPython.core.display.Javascript object>"
            ],
            "application/javascript": [
              "\n",
              "    async function download(id, filename, size) {\n",
              "      if (!google.colab.kernel.accessAllowed) {\n",
              "        return;\n",
              "      }\n",
              "      const div = document.createElement('div');\n",
              "      const label = document.createElement('label');\n",
              "      label.textContent = `Downloading \"${filename}\": `;\n",
              "      div.appendChild(label);\n",
              "      const progress = document.createElement('progress');\n",
              "      progress.max = size;\n",
              "      div.appendChild(progress);\n",
              "      document.body.appendChild(div);\n",
              "\n",
              "      const buffers = [];\n",
              "      let downloaded = 0;\n",
              "\n",
              "      const channel = await google.colab.kernel.comms.open(id);\n",
              "      // Send a message to notify the kernel that we're ready.\n",
              "      channel.send({})\n",
              "\n",
              "      for await (const message of channel.messages) {\n",
              "        // Send a message to notify the kernel that we're ready.\n",
              "        channel.send({})\n",
              "        if (message.buffers) {\n",
              "          for (const buffer of message.buffers) {\n",
              "            buffers.push(buffer);\n",
              "            downloaded += buffer.byteLength;\n",
              "            progress.value = downloaded;\n",
              "          }\n",
              "        }\n",
              "      }\n",
              "      const blob = new Blob(buffers, {type: 'application/binary'});\n",
              "      const a = document.createElement('a');\n",
              "      a.href = window.URL.createObjectURL(blob);\n",
              "      a.download = filename;\n",
              "      div.appendChild(a);\n",
              "      a.click();\n",
              "      div.remove();\n",
              "    }\n",
              "  "
            ]
          },
          "metadata": {}
        },
        {
          "output_type": "display_data",
          "data": {
            "text/plain": [
              "<IPython.core.display.Javascript object>"
            ],
            "application/javascript": [
              "download(\"download_5a3a45c0-f546-4201-ac5d-b9659601e541\", \"deep_learning_model.keras\", 261983)"
            ]
          },
          "metadata": {}
        }
      ]
    }
  ]
}